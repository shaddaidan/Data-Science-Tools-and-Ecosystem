{
 "cells": [
  {
   "cell_type": "markdown",
   "id": "52732560-f08f-4ae5-9dca-56e6b1394402",
   "metadata": {
    "tags": []
   },
   "source": [
    "# Data Science Tools and Ecosystem"
   ]
  },
  {
   "cell_type": "markdown",
   "id": "85f3800a-bbb3-4734-9c9f-70620a415439",
   "metadata": {},
   "source": [
    "In this notebook, Data Science Tools and Ecosystem are summarized."
   ]
  },
  {
   "cell_type": "markdown",
   "id": "54f379cf-dc1e-442a-94e0-4d2862540310",
   "metadata": {},
   "source": [
    "**Objectives:**\n",
    "* list languages for data science\n",
    "* list dictionaries for data science\n",
    "* open a jupyternotebok\n",
    "* write code in jupyter notebook"
   ]
  },
  {
   "cell_type": "markdown",
   "id": "7876fd31-22cb-4995-a8d3-80b840adb5c7",
   "metadata": {},
   "source": [
    "## Some of the popular languages that Data Scientists use are:\n",
    "\n",
    "1. Python\n",
    "2. R\n",
    "3. Scala\n",
    "4. SQL\n",
    "5. Julia\n"
   ]
  },
  {
   "cell_type": "markdown",
   "id": "9bf1788f-a302-4ae6-b9fc-42d90606ed71",
   "metadata": {},
   "source": [
    "## Some of the commonly used libraries used by Data Scientists include:\n",
    "1. Pandas\n",
    "2. Numpy\n",
    "3. Matplotlib\n",
    "4. Scikit-learn\n",
    "5. Seaborn\n",
    "6. Pytorch"
   ]
  },
  {
   "cell_type": "markdown",
   "id": "3dba1bf5-ef10-40b9-8613-c1d18ca69715",
   "metadata": {},
   "source": [
    "| Data Science Tools |\n",
    "|----------|\n",
    "| Visual studio codes    |\n",
    "| Sypder |\n",
    "| Annaconda   |  \n"
   ]
  },
  {
   "cell_type": "markdown",
   "id": "8d8e2565-6bdd-4757-a283-d7664e77e55d",
   "metadata": {},
   "source": [
    "### Below are a few examples of evaluating arithmetic expressions in Python. \n",
    "1. result = 10 - 4 \n",
    "2. result = 7 * 6\n",
    "3. result = 20 / 4 "
   ]
  },
  {
   "cell_type": "code",
   "execution_count": 3,
   "id": "9be0ffbe-f5cb-4fc6-8b3e-bd39260363ef",
   "metadata": {
    "tags": []
   },
   "outputs": [
    {
     "data": {
      "text/plain": [
       "17"
      ]
     },
     "execution_count": 3,
     "metadata": {},
     "output_type": "execute_result"
    }
   ],
   "source": [
    "(3*4)+5 #This a simple arithmetic expression to mutiply then add integers"
   ]
  },
  {
   "cell_type": "code",
   "execution_count": 5,
   "id": "277d68e2-e69d-467b-965f-6c2809bf2c08",
   "metadata": {
    "tags": []
   },
   "outputs": [
    {
     "name": "stdout",
     "output_type": "stream",
     "text": [
      "3.3333333333333335\n"
     ]
    }
   ],
   "source": [
    "minutes = 200\n",
    "hour = minutes / 60 # This will convert 200 minutes to hours by diving by 60\n",
    "print(hour)\n"
   ]
  }
 ],
 "metadata": {
  "kernelspec": {
   "display_name": "Python",
   "language": "python",
   "name": "conda-env-python-py"
  },
  "language_info": {
   "codemirror_mode": {
    "name": "ipython",
    "version": 3
   },
   "file_extension": ".py",
   "mimetype": "text/x-python",
   "name": "python",
   "nbconvert_exporter": "python",
   "pygments_lexer": "ipython3",
   "version": "3.7.12"
  }
 },
 "nbformat": 4,
 "nbformat_minor": 5
}
